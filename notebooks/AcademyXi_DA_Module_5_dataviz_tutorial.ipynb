{
 "cells": [
  {
   "cell_type": "markdown",
   "metadata": {
    "id": "RtB8vRNMIDvx",
    "pycharm": {
     "name": "#%% md\n"
    }
   },
   "source": [
    "[![Open In Colab](https://colab.research.google.com/assets/colab-badge.svg)](https://colab.research.google.com/github/databyjp/AcademyXI_DA/blob/main/notebooks/AcademyXi_DA_Module_5_dataviz_tutorial.ipynb)\n",
    "\n",
    "# Data visualisation tutorial\n",
    "This is an introductory notebook showing how to use the [Plotly.py](https://github.com/plotly/plotly.py) library to build charts. \n",
    "\n",
    "Run this notebook through Google Colab.\n",
    "\n",
    "If you are interested in exploring Plotly.py further, check out the Plotly.py [documentation](https://plotly.com/python/)."
   ]
  },
  {
   "cell_type": "code",
   "execution_count": null,
   "metadata": {
    "id": "DvNr4UgVmHxF"
   },
   "outputs": [],
   "source": [
    "# Install additional libraries required (fsspec and s3fs) to load files through AWS S3\n",
    "%%capture tmp\n",
    "!pip install fsspec s3fs\n",
    "\n",
    "# Import libraries to be used\n",
    "import plotly.express as px\n",
    "import pandas as pd\n",
    "import numpy as np"
   ]
  },
  {
   "cell_type": "markdown",
   "metadata": {
    "id": "lNb9FZr3JeMa"
   },
   "source": [
    "Now we are ready to load our data from a CSV file into a `pandas` DataFrame."
   ]
  },
  {
   "cell_type": "code",
   "execution_count": null,
   "metadata": {
    "id": "CLamI9ewmJ2G"
   },
   "outputs": [],
   "source": [
    "# Load data from S3\n",
    "df = pd.read_csv(\"s3://databyjp/academyxi/healthcare-expenditure-vs-gdp-2014_clean.csv\")"
   ]
  },
  {
   "cell_type": "markdown",
   "metadata": {
    "id": "WbRJG9MgJqVe"
   },
   "source": [
    "Check that the data has been loaded propertly - you should see the first five rows of data here"
   ]
  },
  {
   "cell_type": "code",
   "execution_count": null,
   "metadata": {
    "id": "F5z5czjCnUG3"
   },
   "outputs": [],
   "source": [
    "df.head()"
   ]
  },
  {
   "cell_type": "markdown",
   "metadata": {
    "id": "r3PGJ-twK7mF"
   },
   "source": [
    "\n",
    "---\n",
    "\n",
    "We are ready to plot the data. \n",
    "\n",
    "Let's plot a bar graph below of life expectations for the first 20 countries in the DataFrame. \n",
    "\n",
    "Here, the **first line** creates a figure object with name `fig`, and the **second line** displays the figure with the method `show`."
   ]
  },
  {
   "cell_type": "code",
   "execution_count": null,
   "metadata": {
    "id": "AtsX4MsS0cXA"
   },
   "outputs": [],
   "source": [
    "fig = px.bar(df[:20], x=\"Entity\", y=\"health_per_cap\")\n",
    "fig.show()"
   ]
  },
  {
   "cell_type": "markdown",
   "metadata": {
    "id": "vWccPU3tQils"
   },
   "source": [
    "Now plot the 'gdp_per_cap' values for the last 20 countries in the DataFrame."
   ]
  },
  {
   "cell_type": "code",
   "execution_count": null,
   "metadata": {
    "id": "I2IKKrI2BBmP"
   },
   "outputs": [],
   "source": [
    "fig = px.bar(df[-20:], x=\"Entity\", y=\"gdp_per_cap\")\n",
    "fig.show()"
   ]
  },
  {
   "cell_type": "markdown",
   "metadata": {
    "id": "GxkNTL1RRCPQ"
   },
   "source": [
    "And the 20 countries with the highest values."
   ]
  },
  {
   "cell_type": "code",
   "execution_count": null,
   "metadata": {
    "id": "VBmj5UA1Q7qH"
   },
   "outputs": [],
   "source": [
    "fig = px.bar(df.sort_values(\"gdp_per_cap\")[-20:], x=\"Entity\", y=\"gdp_per_cap\")\n",
    "fig.show()"
   ]
  },
  {
   "cell_type": "markdown",
   "metadata": {
    "id": "ZpMzLUjxzsaQ"
   },
   "source": [
    "We can use colours to encode an additional dimension of information. \n",
    "\n",
    "Let's add the healthcare costs per capita data to the bar graph."
   ]
  },
  {
   "cell_type": "code",
   "execution_count": null,
   "metadata": {
    "id": "H3kLP64cnXNG"
   },
   "outputs": [],
   "source": [
    "fig = px.bar(df.sort_values(\"gdp_per_cap\")[-20:], x=\"Entity\", y=\"gdp_per_cap\",\n",
    "             color=\"health_per_cap\", color_continuous_scale=px.colors.sequential.Agsunset)\n",
    "fig.show()"
   ]
  },
  {
   "cell_type": "markdown",
   "metadata": {
    "id": "DKAZZGYC0mYS"
   },
   "source": [
    "You can see from above that **bar charts** are great for comparing quantities against each other.\n",
    "\n",
    "It's relatively easy to tell which values are higher even for very similar values.\n",
    "\n",
    "\n",
    "---\n",
    "\n"
   ]
  },
  {
   "cell_type": "markdown",
   "metadata": {
    "id": "ChFx7DTKSPbl"
   },
   "source": [
    "Now, let's build a different type of a chart - a **histogram**. A histogram is a statistical chart, for visualising a distribution of values. "
   ]
  },
  {
   "cell_type": "code",
   "execution_count": null,
   "metadata": {
    "id": "mIqZ4qoBzZqB"
   },
   "outputs": [],
   "source": [
    "fig = px.histogram(df, x=\"health_per_cap\")\n",
    "fig.show()"
   ]
  },
  {
   "cell_type": "markdown",
   "metadata": {
    "id": "Zoa9evPPSuAN"
   },
   "source": [
    "You see that above, the dataset has been separated into a series of bars, which are called \"bins\". The height of each bin indicate how many data points fall in this range.\n",
    "\n",
    "Next up is are box charts. Box charts give overviews of the distribution by displaying the dataset's quartile ranges, as well as any outliers. Take a look:"
   ]
  },
  {
   "cell_type": "code",
   "execution_count": null,
   "metadata": {
    "id": "nt2Vuy-ZEjZ4"
   },
   "outputs": [],
   "source": [
    "fig = px.box(df, x=\"gdp_per_cap\", orientation=\"h\", hover_data=[\"Entity\"])\n",
    "fig.show()"
   ]
  },
  {
   "cell_type": "markdown",
   "metadata": {
    "id": "lyWL8bz1Tsmo"
   },
   "source": [
    "Notice that the GDP per capita data looks very compressed at the low end. Let's see what it looks like if we adopted a log scale."
   ]
  },
  {
   "cell_type": "code",
   "execution_count": null,
   "metadata": {
    "id": "M3g7fM_6ElwX"
   },
   "outputs": [],
   "source": [
    "fig = px.box(df, x=\"gdp_per_cap\", orientation=\"h\", log_x=True, hover_data=[\"Entity\"])\n",
    "fig.show()"
   ]
  },
  {
   "cell_type": "markdown",
   "metadata": {
    "id": "rCuLkVuvT6KI"
   },
   "source": [
    "That looks better. Some data lend themselves more to geometric scales, where the growth tends to happen in terms of *orders of magnitudes* (e.g. 10x, 100x, 1000x, etc.).\n",
    "\n",
    "\n",
    "---\n",
    "\n"
   ]
  },
  {
   "cell_type": "markdown",
   "metadata": {
    "id": "BQ8JDzR3UN-z"
   },
   "source": [
    "Next, we plot both of these variables together onto a scatter plot."
   ]
  },
  {
   "cell_type": "code",
   "execution_count": null,
   "metadata": {
    "id": "CLvBAoSjn18U"
   },
   "outputs": [],
   "source": [
    "fig = px.scatter(df, x=\"gdp_per_cap\", y=\"health_per_cap\", hover_data=[\"Entity\"])\n",
    "fig.show()"
   ]
  },
  {
   "cell_type": "code",
   "execution_count": null,
   "metadata": {
    "id": "GOqkaWMbmhEf"
   },
   "outputs": [],
   "source": [
    "fig = px.scatter(df, x=\"gdp_per_cap\", y=\"health_per_cap\", hover_data=[\"Entity\"],\n",
    "                 log_x=True, log_y=True)\n",
    "fig.show()"
   ]
  },
  {
   "cell_type": "markdown",
   "metadata": {
    "id": "UMqNoPf1WYQk"
   },
   "source": [
    "To create a bubble chart, specify a column name for the `size` parameter."
   ]
  },
  {
   "cell_type": "code",
   "execution_count": null,
   "metadata": {
    "id": "PSoMdN5cBz7B"
   },
   "outputs": [],
   "source": [
    "fig = px.scatter(df, x=\"gdp_per_cap\", y=\"health_per_cap\", hover_data=[\"Entity\"],\n",
    "                 log_x=True, log_y=True, size=\"total_pop\")\n",
    "fig.show()"
   ]
  },
  {
   "cell_type": "markdown",
   "metadata": {
    "id": "tl8OcX--1kpZ"
   },
   "source": [
    "**Scatter plots** are fantastic for getting a quick understanding of relationships between variables, and identifying outliers very quickly.\n",
    "\n",
    "The dataset includes data on which continent each country on the list belongs to. We can display this information using colours."
   ]
  },
  {
   "cell_type": "code",
   "execution_count": null,
   "metadata": {
    "id": "dRixY8SidhNx"
   },
   "outputs": [],
   "source": [
    "fig = px.scatter(df, x=\"gdp_per_cap\", y=\"health_per_cap\", hover_data=[\"Entity\"],\n",
    "                 log_x=True, log_y=True, size=\"total_pop\", color=\"Continent\",)\n",
    "fig.show()"
   ]
  },
  {
   "cell_type": "markdown",
   "metadata": {
    "id": "LG8BcV8P0Ldf"
   },
   "source": [
    "This is called \"categorical\" or \"qualitative\" information, unlike the \"quantitative\" use of colours above."
   ]
  },
  {
   "cell_type": "markdown",
   "metadata": {
    "id": "Mak6JFCY0UMQ"
   },
   "source": [
    "Plotly also lets you customise the graph in any number of ways. Here is an example with a few simple styling options applied."
   ]
  },
  {
   "cell_type": "code",
   "execution_count": null,
   "metadata": {
    "id": "jTVlWck-g0us"
   },
   "outputs": [],
   "source": [
    "fig = px.scatter(df, x=\"gdp_per_cap\", y=\"health_per_cap\", hover_data=[\"Entity\"],\n",
    "                 log_x=True, log_y=True, size=\"total_pop\", color=\"Continent\",\n",
    "                 title=\"GDP vs Healthcare Expenditure\",\n",
    "                 template=\"plotly_white\", labels={\"health_per_cap\": \"Healthcare Expenditure per Capita\", \"gdp_per_cap\": \"GDP per Capita\"}\n",
    "                 )\n",
    "fig.update_traces(marker=dict(line=dict(width=1, color='DarkSlateGrey')))\n",
    "fig.show()"
   ]
  },
  {
   "cell_type": "markdown",
   "metadata": {
    "id": "cqLEwbQeXDqW"
   },
   "source": [
    "### Bonus exercise\n",
    "A scatter matrix is a set of scatter plots for each pair of columns. "
   ]
  },
  {
   "cell_type": "code",
   "execution_count": null,
   "metadata": {
    "id": "Lax8EvrEsSFK"
   },
   "outputs": [],
   "source": [
    "fig = px.scatter_matrix(df)\n",
    "fig.show()"
   ]
  },
  {
   "cell_type": "markdown",
   "metadata": {
    "id": "kUKr017kZI4o"
   },
   "source": [
    "Can you tell which of the two columns show the strongest relationship?\n",
    "\n",
    "We will come back to this later in the course."
   ]
  },
  {
   "cell_type": "markdown",
   "metadata": {
    "id": "HwtDGkZx0f2U"
   },
   "source": [
    "If you would like to learn more, check out the Plotly.py [documentation here](https://plotly.com/python/)."
   ]
  }
 ],
 "metadata": {
  "colab": {
   "collapsed_sections": [],
   "name": "AcademyXi_DA_Module_5_dataviz_tutorial.ipynb",
   "provenance": []
  },
  "kernelspec": {
   "display_name": "Python 3",
   "name": "python3"
  },
  "language_info": {
   "name": "python"
  }
 },
 "nbformat": 4,
 "nbformat_minor": 0
}
