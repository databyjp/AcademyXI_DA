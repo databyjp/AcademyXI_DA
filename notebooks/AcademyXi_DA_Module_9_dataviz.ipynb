{
  "nbformat": 4,
  "nbformat_minor": 0,
  "metadata": {
    "colab": {
      "name": "AcademyXi_DA_Module_9_dataviz.ipynb",
      "provenance": []
    },
    "kernelspec": {
      "name": "python3",
      "display_name": "Python 3"
    },
    "language_info": {
      "name": "python"
    }
  },
  "cells": [
    {
      "cell_type": "markdown",
      "source": [
        "[![Open In Colab](https://colab.research.google.com/assets/colab-badge.svg)](https://colab.research.google.com/github/databyjp/AcademyXI_DA/blob/main/notebooks/AcademyXi_DA_Module_9_dataviz.ipynb)\n",
        "\n",
        "## AcademyXi Data Analysis - Explanatory Data Visualisation\n",
        "### Workshop - Data storytelling with Python\n",
        "In this workshop module, we will use Python and Plotly to build explanatory data visualisations.  \n",
        "\n",
        "We've already seen how the Plotly library can be used to quickly build data visualisations in Python. Since those were primarily constructed for exploratory purposes to better understand and data, here we will focus on techniques for building explanatory data visualisations."
      ],
      "metadata": {
        "id": "M1L-KWmxP5r-"
      }
    },
    {
      "cell_type": "markdown",
      "source": [
        "### Preparation\n",
        "\n",
        "Let's prepare our notebook by installing required packages and loading the data."
      ],
      "metadata": {
        "id": "6WqxxBBCRDUZ"
      }
    },
    {
      "cell_type": "code",
      "execution_count": null,
      "metadata": {
        "id": "DV0pIanNP4e4"
      },
      "outputs": [],
      "source": [
        "# Install additional libraries required (fsspec and s3fs) to load files through AWS S3\n",
        "%%capture tmp\n",
        "!pip install fsspec s3fs\n",
        "\n",
        "# Import libraries to be used\n",
        "import plotly.express as px\n",
        "import numpy as np\n",
        "import pandas as pd"
      ]
    },
    {
      "cell_type": "code",
      "source": [
        "fname = \"wk9_housing_data_pivoted.csv\"\n",
        "# Load data from S3\n",
        "df = pd.read_csv(f\"s3://databyjp/academyxi/{fname}\")"
      ],
      "metadata": {
        "id": "ip8U_AKfRiRR"
      },
      "execution_count": null,
      "outputs": []
    },
    {
      "cell_type": "code",
      "source": [
        "df.head()"
      ],
      "metadata": {
        "id": "O-fqbaX2R5m6"
      },
      "execution_count": null,
      "outputs": []
    },
    {
      "cell_type": "markdown",
      "source": [
        "### Initial figure\n",
        "Let's quickly build a bubble chart with our data."
      ],
      "metadata": {
        "id": "3WfkpnMdRu1d"
      }
    },
    {
      "cell_type": "code",
      "source": [
        "fig = px.scatter(df, x=\"Average Distance\", y=\"Average Price\", size=\"Count of Properties\", color=\"Region\")\n",
        "fig.show()"
      ],
      "metadata": {
        "id": "Whscly5uRmYw"
      },
      "execution_count": null,
      "outputs": []
    },
    {
      "cell_type": "markdown",
      "source": [
        "This provides us with a very basic graph similar to built using other tools. (Note how we managed to build & show this with just two lines of code!)\n",
        "\n",
        "But as you know, it doesn't do a lot to guide the user; so let's start to make a few changes.\n",
        "\n",
        "We will lean on Plotly's API to further modify these charts. It's perfectly normal to not know or remember the syntax even if you have made the same changes before. \n",
        "\n",
        "So as always, make a habit of consulting the excellent [documentation for Plotly](https://plotly.com/python/) or performing a web search for anything that you can't remember or isn't working as expected.\n",
        "\n",
        "\n",
        "---\n",
        "\n",
        "To begin with, let's add a title, and change the layout to something a little more elegant."
      ],
      "metadata": {
        "id": "vJI6mdsQSRzw"
      }
    },
    {
      "cell_type": "code",
      "source": [
        "fig = px.scatter(df, x=\"Average Distance\", y=\"Average Price\", size=\"Count of Properties\", color=\"Region\",\n",
        "                 title=\"Melbourne Housing Prices by Suburb\", template=\"plotly_white\")\n",
        "# Note: Plotly's 'template' feature allows quick changes to the styling - see https://plotly.com/python/templates/\n",
        "fig.show()"
      ],
      "metadata": {
        "id": "jZpIcDVGSIy9"
      },
      "execution_count": null,
      "outputs": []
    },
    {
      "cell_type": "markdown",
      "source": [
        "The size of this figure is dependent on our window size, so let's specify the chart dimensions instead. "
      ],
      "metadata": {
        "id": "gguX4o6STHev"
      }
    },
    {
      "cell_type": "code",
      "source": [
        "fig = px.scatter(df, x=\"Average Distance\", y=\"Average Price\", size=\"Count of Properties\", color=\"Region\",\n",
        "                 title=\"Melbourne Housing Prices by Suburb\", template=\"plotly_white\",\n",
        "                 width=900, height=600)\n",
        "fig.show()"
      ],
      "metadata": {
        "id": "gtKRDP1iSuES"
      },
      "execution_count": null,
      "outputs": []
    },
    {
      "cell_type": "markdown",
      "source": [
        "And let's change our colour palette so that the Northern and Southern Metropolitan areas stand out more. \n",
        "\n",
        "Read more on discrete colours: https://plotly.com/python/discrete-color/"
      ],
      "metadata": {
        "id": "XlZ4tF4-7sCW"
      }
    },
    {
      "cell_type": "code",
      "source": [
        "# Build a Python dictionary where all categories are assigned a light grey colour except for our key values\n",
        "color_discrete_map = {k: \"lightgrey\" for k in df[\"Region\"].unique()}\n",
        "color_discrete_map[\"Northern Metropolitan\"] = \"DodgerBlue\"  # Colours chosen from https://en.wikipedia.org/wiki/Web_colors\n",
        "color_discrete_map[\"Southern Metropolitan\"] = \"DarkOrange\"\n",
        "\n",
        "fig = px.scatter(df, x=\"Average Distance\", y=\"Average Price\", size=\"Count of Properties\", color=\"Region\",\n",
        "                 title=\"Melbourne Housing Prices by Suburb\", template=\"plotly_white\",\n",
        "                 color_discrete_map = color_discrete_map,\n",
        "                 width=900, height=600)\n",
        "fig.show()"
      ],
      "metadata": {
        "id": "1DVaKUBeTECw"
      },
      "execution_count": null,
      "outputs": []
    },
    {
      "cell_type": "markdown",
      "source": [
        "We'll move the legend to the vacant top right corner; and also add Suburb name to the mousehover (hover) popup. (Compare the difference between the figure below and above!.)\n",
        "\n",
        "More on hover text: https://plotly.com/python/hover-text-and-formatting/"
      ],
      "metadata": {
        "id": "iPPXPlbGFeAK"
      }
    },
    {
      "cell_type": "code",
      "source": [
        "fig = px.scatter(df, x=\"Average Distance\", y=\"Average Price\", size=\"Count of Properties\", color=\"Region\",\n",
        "                 title=\"Melbourne Housing Prices by Suburb\", template=\"plotly_white\",\n",
        "                 color_discrete_map = color_discrete_map,\n",
        "                 hover_data=[\"Suburb\"],\n",
        "                 width=900, height=600)\n",
        "fig.update_layout(legend=dict(\n",
        "    yanchor=\"top\", y=0.98,\n",
        "    xanchor=\"right\", x=0.98,\n",
        "    bordercolor=\"lightgray\", borderwidth=1,\n",
        "    font=dict(\n",
        "        size=11,\n",
        "        color=\"black\"\n",
        "    ),    \n",
        "))\n",
        "fig.show()"
      ],
      "metadata": {
        "id": "ogkuHD2R-55t"
      },
      "execution_count": null,
      "outputs": []
    },
    {
      "cell_type": "markdown",
      "source": [
        "And we will also add a few annotations. Plotly's annotations are by default based on locations with reference to the x & y data.\n",
        "\n",
        "More on annotations: https://plotly.com/python/text-and-annotations/"
      ],
      "metadata": {
        "id": "-8Dub2veE0Wt"
      }
    },
    {
      "cell_type": "code",
      "source": [
        "fig = px.scatter(df, x=\"Average Distance\", y=\"Average Price\", size=\"Count of Properties\", color=\"Region\",\n",
        "                 title=\"Melbourne Housing Prices by Suburb\", template=\"plotly_white\",\n",
        "                 color_discrete_map = color_discrete_map,\n",
        "                 hover_data=[\"Suburb\"],\n",
        "                 width=900, height=600)\n",
        "fig.update_layout(legend=dict(\n",
        "    yanchor=\"top\", y=0.98,\n",
        "    xanchor=\"right\", x=0.98,\n",
        "    bordercolor=\"lightgray\", borderwidth=1,\n",
        "    font=dict(\n",
        "        size=11,\n",
        "        color=\"black\"\n",
        "    ),    \n",
        "))\n",
        "\n",
        "# This is a little tricky if you're new - but this code iterates through the list of suburb names, \n",
        "# finds the X/Y coordinate data and then adds an annotation for each.\n",
        "for suburb_name in [\"Brighton\", \"Melbourne\", \"Beaumaris\"]:\n",
        "  fdf = df[df[\"Suburb\"] == suburb_name]\n",
        "  fig.add_annotation(x=fdf[\"Average Distance\"].values[0], y=(fdf[\"Average Price\"].values[0]),\n",
        "              text=suburb_name,\n",
        "              showarrow=True,\n",
        "              arrowhead=1)\n",
        "\n",
        "fig.show()"
      ],
      "metadata": {
        "id": "zf-6pkiEDk4G"
      },
      "execution_count": null,
      "outputs": []
    },
    {
      "cell_type": "markdown",
      "source": [
        "And update the displayed X & Y axes to clarify units.\n",
        "\n",
        "More on axes: https://plotly.com/python/axes/"
      ],
      "metadata": {
        "id": "BvEGuneEpOxg"
      }
    },
    {
      "cell_type": "code",
      "source": [
        "fig = px.scatter(df, x=\"Average Distance\", y=\"Average Price\", size=\"Count of Properties\", color=\"Region\",\n",
        "                 title=\"Melbourne Housing Prices by Suburb\", template=\"plotly_white\",\n",
        "                 color_discrete_map = color_discrete_map,\n",
        "                 hover_data=[\"Suburb\"],\n",
        "                 labels={\"Average Price\": \"Average Price (AUD)\"},  # Note this change to y-axis label\n",
        "                 width=900, height=600)\n",
        "fig.update_layout(legend=dict(\n",
        "    yanchor=\"top\", y=0.98,\n",
        "    xanchor=\"right\", x=0.98,\n",
        "    bordercolor=\"lightgray\", borderwidth=1,\n",
        "    font=dict(\n",
        "        size=11,\n",
        "        color=\"black\"\n",
        "    ),    \n",
        "))\n",
        "\n",
        "for suburb_name in [\"Brighton\", \"Melbourne\", \"Beaumaris\"]:\n",
        "  fdf = df[df[\"Suburb\"] == suburb_name]\n",
        "  fig.add_annotation(x=fdf[\"Average Distance\"].values[0], y=(fdf[\"Average Price\"].values[0]),\n",
        "              text=suburb_name,\n",
        "              showarrow=True,\n",
        "              arrowhead=1)\n",
        "\n",
        "fig.update_yaxes(tickprefix=\"AU$\")  # And changing display values\n",
        "fig.update_xaxes(ticksuffix=\" km\")\n",
        "\n",
        "fig.show()"
      ],
      "metadata": {
        "id": "QLW8Smt_GBKX"
      },
      "execution_count": null,
      "outputs": []
    },
    {
      "cell_type": "markdown",
      "source": [
        "And finally, we'll add a text note. \n",
        "\n",
        "There isn't a built-in way to do this, so what we will do is to increase the space (margin) between the chart title and the chart area, and then add an annotation."
      ],
      "metadata": {
        "id": "Ns2jBXShpuUL"
      }
    },
    {
      "cell_type": "code",
      "source": [
        "fig = px.scatter(df, x=\"Average Distance\", y=\"Average Price\", size=\"Count of Properties\", color=\"Region\",\n",
        "                 title=\"Melbourne Housing Prices by Suburb\", template=\"plotly_white\",\n",
        "                 color_discrete_map = color_discrete_map,\n",
        "                 hover_data=[\"Suburb\"],\n",
        "                 labels={\"Average Price\": \"Average Price (AUD)\"},  \n",
        "                 width=900, height=600)\n",
        "fig.update_layout(legend=dict(\n",
        "    yanchor=\"top\", y=0.98,\n",
        "    xanchor=\"right\", x=0.98,\n",
        "    bordercolor=\"lightgray\", borderwidth=1,\n",
        "    font=dict(\n",
        "        size=11,\n",
        "        color=\"black\"\n",
        "    ),    \n",
        "))\n",
        "\n",
        "for suburb_name in [\"Brighton\", \"Melbourne\", \"Beaumaris\"]:\n",
        "  fdf = df[df[\"Suburb\"] == suburb_name]\n",
        "  fig.add_annotation(x=fdf[\"Average Distance\"].values[0], y=(fdf[\"Average Price\"].values[0]),\n",
        "              text=suburb_name,\n",
        "              showarrow=True,\n",
        "              arrowhead=1)\n",
        "\n",
        "fig.update_yaxes(tickprefix=\"AU$\")  \n",
        "fig.update_xaxes(ticksuffix=\" km\")\n",
        "\n",
        "# Increase the overall top margin, and move the title up slightly \n",
        "fig.update_layout(\n",
        "    margin=dict(t=120),\n",
        "    title={'y':0.95, 'yanchor': 'top'}\n",
        ")\n",
        "\n",
        "# Add the subhead\n",
        "fig.add_annotation(text=\"Despite being at similar distances to the CBD, there is a clear divide in average housing prices between the suburbs of the <BR>Northern Metropolitan and Southern Metropolitan areas.\",\n",
        "                  xref=\"paper\", yref=\"paper\", align=\"left\",\n",
        "                  x=-0.06, y=1.15, showarrow=False)\n",
        "\n",
        "fig.show()"
      ],
      "metadata": {
        "id": "eGCAnSLRoQud"
      },
      "execution_count": null,
      "outputs": []
    },
    {
      "cell_type": "markdown",
      "source": [
        "We're done! We've customised many elements of our chart to produce a good-looking explanatory data visualisation. \n",
        "\n",
        "The chart can be simply saved as a screen grab, embedded into a web site, or exported as a static image using one of the options shown here (https://plotly.com/python/static-image-export/).\n",
        "\n",
        "---\n"
      ],
      "metadata": {
        "id": "lR-osJnXvGT0"
      }
    },
    {
      "cell_type": "markdown",
      "source": [
        "You can probably see now that any number of data visualisation tools are capable of producing good outputs. \n",
        "\n",
        "While Plotly is often used as an exploratory visualistion tool, it is also a very capable tool for producing good-looking explanatory visualisations as you see here with a little customisation of the outputs. \n",
        "\n",
        "As such the choice of tool in your workflow can be a matter of preference. \n",
        "\n",
        "For instance, many would prefer to carry out their analysis in Python and export the resulting data to be visualised in another tool such as Tableau, DataWrapper or others, while others might stick to Python libraries for the entire pipeline.\n",
        "\n",
        "So our advice is to choose a tool that suits you best, and focus on producing the best visualisation that communicates your message best.\n",
        "\n",
        "Good luck!"
      ],
      "metadata": {
        "id": "zb-aFjSOyRKS"
      }
    }
  ]
}