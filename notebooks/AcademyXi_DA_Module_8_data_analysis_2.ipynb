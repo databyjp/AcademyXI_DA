{
 "nbformat": 4,
 "nbformat_minor": 0,
 "metadata": {
  "colab": {
   "name": "AcademyXi_DA_Module_8_data_analysis_2.ipynb",
   "provenance": [],
   "collapsed_sections": []
  },
  "kernelspec": {
   "name": "python3",
   "display_name": "Python 3"
  },
  "language_info": {
   "name": "python"
  }
 },
 "cells": [
  {
   "cell_type": "markdown",
   "source": [
    "[![Open In Colab](https://colab.research.google.com/assets/colab-badge.svg)](https://colab.research.google.com/github/databyjp/AcademyXI_DA/blob/main/notebooks/AcademyXi_DA_Module_8_data_analysis_2.ipynb)\n",
    "\n",
    "## AcademyXi Data Analysis - Data Analysis 2: \n",
    "### Workshop - Regression with Python\n",
    "In this workshop module, we will show you examples of how Python can be used to build regression models. \n",
    "\n",
    "As we mentioned before, each of regression analysis and machine learning are very complex and large topics. Additionally, we appreciate that you will have varying degrees of familiarity with Python including its syntaxes, which we have not covered in this course.\n",
    "\n",
    "**So treat this section as an introductory demonstration to see some things that can be possible with these techniques, rather than something which you need to reproduce.**\n",
    "\n",
    "\n",
    "Let's begin by importing a few libraries and modules to be used."
   ],
   "metadata": {
    "id": "U0TJbfyWzgrJ"
   }
  },
  {
   "cell_type": "code",
   "execution_count": 1,
   "metadata": {
    "id": "1HQEUAIfzBz1"
   },
   "outputs": [],
   "source": [
    "# Install additional libraries required (fsspec and s3fs) to load files through AWS S3\n",
    "%%capture tmp\n",
    "!pip install fsspec s3fs\n",
    "\n",
    "# Import libraries to be used\n",
    "import pandas as pd\n",
    "import numpy as np\n",
    "import plotly.express as px"
   ]
  },
  {
   "cell_type": "markdown",
   "source": [
    "## Linear regression with scikit-learn\n",
    "\n",
    "[Scikit-learn](https://scikit-learn.org/stable/user_guide.html) may be the most commonly-used machine learning library for Python. It enables the user to build all manners of machine learning models from linear models to decision trees and even neural network models. \n",
    "\n",
    "Its relative simplicity and comprehensive documentation makes it not only a great tool but also a great learning resource.\n",
    "\n",
    "Here, we will use it to develop a few simple linear regression models."
   ],
   "metadata": {
    "id": "9wSrkydpz0To"
   }
  },
  {
   "cell_type": "code",
   "source": [
    "# Load data from S3\n",
    "df = pd.read_csv(\"s3://databyjp/academyxi/auto-mpg.csv\")"
   ],
   "metadata": {
    "id": "wGbIe769zrzC"
   },
   "execution_count": 2,
   "outputs": []
  },
  {
   "cell_type": "code",
   "source": [
    "df.head()"
   ],
   "metadata": {
    "colab": {
     "base_uri": "https://localhost:8080/",
     "height": 250
    },
    "id": "Y_mQ6We73C8h",
    "outputId": "eda58544-52fa-4989-96ca-6f33d1d7b770",
    "pycharm": {
     "is_executing": true
    }
   },
   "execution_count": null,
   "outputs": []
  },
  {
   "cell_type": "markdown",
   "source": [
    "We'll use the [auto-mpg dataset](https://archive.ics.uci.edu/ml/datasets/auto+mpg) again, which you would have seen before. \n",
    "\n",
    "The dataset includes a number of parameters of cars, which can be used to predict their fuel efficiency (mpg) characteristics. "
   ],
   "metadata": {
    "id": "wnegas8m3Sjs"
   }
  },
  {
   "cell_type": "markdown",
   "source": [
    "### My first regression model\n",
    "\n",
    "\n",
    "To get started with, let's build a regression model to predict the fuel efficiency, based on the engine size (displacement).\n",
    "\n",
    "First, we'll briefly visually inspect the data."
   ],
   "metadata": {
    "id": "MNI2khBbVCow"
   }
  },
  {
   "cell_type": "code",
   "source": [
    "import plotly.express as px\n",
    "fig = px.scatter(df, x=\"displacement\", y=\"mpg\")\n",
    "fig.show()"
   ],
   "metadata": {
    "colab": {
     "base_uri": "https://localhost:8080/",
     "height": 542
    },
    "id": "cL2cOCWDFkTD",
    "outputId": "7290b5d4-c0e3-49ed-b2b3-066c83492adc",
    "pycharm": {
     "is_executing": true
    }
   },
   "execution_count": null,
   "outputs": []
  },
  {
   "cell_type": "markdown",
   "source": [
    "The relationship here between money spent and impressions look somewhat linear - so let's fit a simple [linear regression model](https://scikit-learn.org/stable/modules/generated/sklearn.linear_model.LinearRegression.html)."
   ],
   "metadata": {
    "id": "uLH5sa9KF89n"
   }
  },
  {
   "cell_type": "code",
   "source": [
    "from sklearn import linear_model\n",
    "reg = linear_model.LinearRegression()"
   ],
   "metadata": {
    "id": "J3eGXyLD3Hfa"
   },
   "execution_count": 5,
   "outputs": []
  },
  {
   "cell_type": "markdown",
   "source": [
    "Here, we specify a linear regression model with the `fit_intercept` argument being `False`, which specifies a linear regression model with a zero intercept."
   ],
   "metadata": {
    "id": "v2-87SV1LpIu"
   }
  },
  {
   "cell_type": "code",
   "source": [
    "reg.fit(df[[\"displacement\"]], df[\"mpg\"])"
   ],
   "metadata": {
    "colab": {
     "base_uri": "https://localhost:8080/"
    },
    "id": "5YtJ9gCsEf7T",
    "outputId": "b293447b-ed85-4498-bef4-fb95900e97a7",
    "pycharm": {
     "is_executing": true
    }
   },
   "execution_count": null,
   "outputs": []
  },
  {
   "cell_type": "markdown",
   "source": [
    "Here we provide the values to develop the model with, which are the \"Spent\" column as the independent variables and the \"Clicks\" as the dependent (target) variable. And we can print parameters of the model here:"
   ],
   "metadata": {
    "id": "6FTniTAbHGhj"
   }
  },
  {
   "cell_type": "code",
   "source": [
    "print(reg.coef_, reg.intercept_)"
   ],
   "metadata": {
    "colab": {
     "base_uri": "https://localhost:8080/"
    },
    "id": "0fb1J3kEMP1H",
    "outputId": "396c6000-afa9-4392-c1ee-7a5fe3b7a22c",
    "pycharm": {
     "is_executing": true
    }
   },
   "execution_count": null,
   "outputs": []
  },
  {
   "cell_type": "markdown",
   "source": [
    "The `reg.coef_` and `reg.intercept_` outputs respectively indicate the coefficient(s) and intercept of the regression model respectively.\n",
    "\n",
    "In other words, the model predicts that the number of clicks can be produced by:\n",
    "\n",
    "`reg.coef_` * x + `reg.intercept_`; in other words:\n",
    "\n",
    "-0.06 * (displacement) + 35.17 = (mpg)\n",
    "\n",
    "Instead of applying this algebra manually, the model can be used to make predictions also:"
   ],
   "metadata": {
    "id": "98knK5naNYq_"
   }
  },
  {
   "cell_type": "code",
   "source": [
    "reg.predict([[200]])"
   ],
   "metadata": {
    "colab": {
     "base_uri": "https://localhost:8080/"
    },
    "id": "OsHKfoGGRfiO",
    "outputId": "3a2f293e-3122-41d3-8bf5-3a1222150d37",
    "pycharm": {
     "is_executing": true
    }
   },
   "execution_count": null,
   "outputs": []
  },
  {
   "cell_type": "markdown",
   "source": [
    "In other words, this model predicts that a 200 cubic inch (about 3.3 litres) engine will have a fuel efficiency of 23 miles per gallon. \n",
    "\n",
    "This seems a reasonable estimate based on the graph above and a cursory google search on engine mileage. \n"
   ],
   "metadata": {
    "id": "l15-qlh3TDDO"
   }
  },
  {
   "cell_type": "markdown",
   "source": [
    "#### How well does it fit the data?\n",
    "\n",
    "We discussed the r-squared model earlier on as a measure of model fit. We can see the r-squared value for our model as below:"
   ],
   "metadata": {
    "id": "rL-Gg6FZJWKS"
   }
  },
  {
   "cell_type": "code",
   "source": [
    "reg.score(df[[\"displacement\"]], df[\"mpg\"])"
   ],
   "metadata": {
    "colab": {
     "base_uri": "https://localhost:8080/"
    },
    "id": "qkkswSDBMIwK",
    "outputId": "a866e3cd-d8c6-4497-f1a3-c25d1e9afc61",
    "pycharm": {
     "is_executing": true
    }
   },
   "execution_count": null,
   "outputs": []
  },
  {
   "cell_type": "markdown",
   "source": [
    "Although this isn't awful, it's not a great score. Let's see how we might improve upon this."
   ],
   "metadata": {
    "id": "wVjhIkFVMUvn"
   }
  },
  {
   "cell_type": "markdown",
   "source": [
    "### Multiple regression model\n",
    "\n",
    "The dataset also provides additional information for cars such as the number of cylinders, weight or maximum acceleration. We can add any number of these to our model, creating a multiple regression model. \n",
    "\n",
    "For instance, we can add the weight parameter to our model:"
   ],
   "metadata": {
    "id": "ck6pUHMaQVk-"
   }
  },
  {
   "cell_type": "code",
   "source": [
    "reg.fit(df[[\"displacement\", \"weight\"]], df[\"mpg\"])\n",
    "print(reg.coef_, reg.intercept_)\n",
    "print(reg.score(df[[\"displacement\", \"weight\"]], df[\"mpg\"]))"
   ],
   "metadata": {
    "colab": {
     "base_uri": "https://localhost:8080/"
    },
    "id": "PXsHouzzQsoO",
    "outputId": "e1172ada-1789-41b7-ea7a-9e56dac4eb5d",
    "pycharm": {
     "is_executing": true
    }
   },
   "execution_count": null,
   "outputs": []
  },
  {
   "cell_type": "markdown",
   "source": [
    "Immediately we see that the fit has improved (r-squared value is larger), which is intuitively sensible given that we are using additional parameters for our prediction.\n",
    "\n",
    "To see the impact of varying weights to our prediction, let's use the same 200 cubic inch engine size, but vary the weight from 1000 to 3000 pounds:"
   ],
   "metadata": {
    "id": "QHSg2DwVRUUW"
   }
  },
  {
   "cell_type": "code",
   "source": [
    "# Predict mpg values at [displacement, weight] values pairs - e.g. [200 cubic inches, 1000 pounds]\n",
    "reg.predict([[200, 1000], [200, 2000], [200, 3000]])  "
   ],
   "metadata": {
    "colab": {
     "base_uri": "https://localhost:8080/"
    },
    "id": "h6SKDf4UROe7",
    "outputId": "cf119e38-8bb9-460c-8868-eccd031b89cb",
    "pycharm": {
     "is_executing": true
    }
   },
   "execution_count": null,
   "outputs": []
  },
  {
   "cell_type": "markdown",
   "source": [
    "You can see how now the predictions change as a function of weight. Again, this intuitively makes sense - the heavier the car, the more fuel it will take to move.\n",
    "\n",
    "As we continue to add relevant variables to the models, it will continue to fit the data better. "
   ],
   "metadata": {
    "id": "NVR6rpkoUPlg"
   }
  },
  {
   "cell_type": "code",
   "source": [
    "reg.fit(df[[\"cylinders\", \"displacement\", \"acceleration\", \"weight\"]], df[\"mpg\"])\n",
    "print(reg.coef_, reg.intercept_)\n",
    "print(reg.score(df[[\"cylinders\", \"displacement\", \"acceleration\", \"weight\"]], df[\"mpg\"]))"
   ],
   "metadata": {
    "colab": {
     "base_uri": "https://localhost:8080/"
    },
    "id": "eWilN-RsfRI2",
    "outputId": "423e611c-2cac-4cfc-c228-c940451e0f61",
    "pycharm": {
     "is_executing": true
    }
   },
   "execution_count": null,
   "outputs": []
  },
  {
   "cell_type": "markdown",
   "source": [
    "#### Dealing with non-linearities"
   ],
   "metadata": {
    "id": "65scZsgBQtn6"
   }
  },
  {
   "cell_type": "markdown",
   "source": [
    "Another way to improve model performance is to use a different model type. Take a look at this graph again:"
   ],
   "metadata": {
    "id": "BLF5RGVfQP8D"
   }
  },
  {
   "cell_type": "code",
   "source": [
    "fig = px.scatter(df, x=\"displacement\", y=\"mpg\")\n",
    "fig.show()"
   ],
   "metadata": {
    "colab": {
     "base_uri": "https://localhost:8080/",
     "height": 542
    },
    "id": "1kYzgScigW6K",
    "outputId": "179b0e41-5405-4b40-aeb3-7108891ce9d2",
    "pycharm": {
     "is_executing": true
    }
   },
   "execution_count": null,
   "outputs": []
  },
  {
   "cell_type": "markdown",
   "source": [
    "There clearly is a relationship between displacement and mpg here, but it isn't wholly consistent through the range of displacements. \n",
    "\n",
    "It looks as though it may change faster at low displacements whereas it looks relatively stable at high displacements. It suggests that there may be better fits available than linear models.\n",
    "\n",
    "We've seen earlier that non-linear models could be used in these situations. Another way to tackle this is to transform one or more of the variables, while still using a linear model. The result is that effectively a non-linear relationship is modelled, as variables used in a linear model are transformed.\n",
    "\n",
    "In this case, let's try transforming our target variable so that instead of using miles per gallon, we'll use gallons per mile:"
   ],
   "metadata": {
    "id": "xxVwh0CbgZm7"
   }
  },
  {
   "cell_type": "code",
   "source": [
    "df = df.assign(gpm=1 / df[\"mpg\"])\n",
    "fig = px.scatter(df, x=\"displacement\", y=\"gpm\")\n",
    "fig.show()"
   ],
   "metadata": {
    "colab": {
     "base_uri": "https://localhost:8080/",
     "height": 542
    },
    "id": "BYQqbQaQOszM",
    "outputId": "e14e654b-505b-4136-8818-06920969ed8c",
    "pycharm": {
     "is_executing": true
    }
   },
   "execution_count": null,
   "outputs": []
  },
  {
   "cell_type": "markdown",
   "source": [
    "Although there is a high spread of values at the high-displacement vehicles, this relationship does look more linear overall. Let's try to fit a simple linear regression model again.\n",
    "\n"
   ],
   "metadata": {
    "id": "F_-Ps-uTh2h2"
   }
  },
  {
   "cell_type": "code",
   "source": [
    "reg.fit(df[[\"displacement\"]], df[\"gpm\"])\n",
    "print(reg.score(df[[\"displacement\"]], df[\"gpm\"]))"
   ],
   "metadata": {
    "colab": {
     "base_uri": "https://localhost:8080/"
    },
    "id": "q5jig4r_OVtx",
    "outputId": "1aaf03f1-bf73-4d1d-d3f9-dfe82250a84a",
    "pycharm": {
     "is_executing": true
    }
   },
   "execution_count": null,
   "outputs": []
  },
  {
   "cell_type": "markdown",
   "source": [
    "The r-squared value bears out our intuition, resulting in a much higher fit value. Now when we introduce the additional variables, the resulting r-squared value becomes even higher, indicating an improved fit."
   ],
   "metadata": {
    "id": "CP9XSN9ZiO0r"
   }
  },
  {
   "cell_type": "code",
   "source": [
    "reg.fit(df[[\"cylinders\", \"displacement\", \"acceleration\", \"weight\"]], df[\"gpm\"])\n",
    "print(reg.coef_, reg.intercept_)\n",
    "print(reg.score(df[[\"cylinders\", \"displacement\", \"acceleration\", \"weight\"]], df[\"gpm\"]))"
   ],
   "metadata": {
    "colab": {
     "base_uri": "https://localhost:8080/"
    },
    "id": "LNE9VQxNiX1w",
    "outputId": "3b17fbbc-1be3-4959-e84d-4b2e82021be5",
    "pycharm": {
     "is_executing": true
    }
   },
   "execution_count": null,
   "outputs": []
  },
  {
   "cell_type": "markdown",
   "source": [
    "Predictions can be made as before:\n"
   ],
   "metadata": {
    "id": "wBNDI98CXz9M"
   }
  },
  {
   "cell_type": "code",
   "source": [
    "gpm_pred = reg.predict([[6, 200, 10, 2000]])  "
   ],
   "metadata": {
    "colab": {
     "base_uri": "https://localhost:8080/"
    },
    "id": "J0NAsEBIGPar",
    "outputId": "f00fb635-d25d-4706-cebe-394348e9b33e",
    "pycharm": {
     "is_executing": true
    }
   },
   "execution_count": null,
   "outputs": []
  },
  {
   "cell_type": "markdown",
   "source": [
    "And it should be kept in mind that the resulting value now is a \"gallons per mile\" value, which can be inverted to produce miles per gallon."
   ],
   "metadata": {
    "id": "cv8AHioWlRvA"
   }
  },
  {
   "cell_type": "code",
   "source": [
    "mpg_pred = 1 / gpm_pred\n",
    "print(mpg_pred)"
   ],
   "metadata": {
    "colab": {
     "base_uri": "https://localhost:8080/"
    },
    "id": "R3PZWigJkjUd",
    "outputId": "aea8a522-6fe3-4a49-f588-0706ad01feaa",
    "pycharm": {
     "is_executing": true
    }
   },
   "execution_count": null,
   "outputs": []
  },
  {
   "cell_type": "markdown",
   "source": [
    "We hope that the above gives you an idea of how basic regression models can be built with Python using the scikit-learn library. \n",
    "\n",
    "Linear regression is a very useful technique to understand, but there is much more you can do with scikit-learn. So we include some reading materials for you to get started with, if you are interested:\n",
    "\n",
    "#### Further readings\n",
    "- [An introduction to machine learning with scikit-learn](https://scikit-learn.org/stable/tutorial/basic/tutorial.html)\n",
    "- [Linear Regression Example](https://scikit-learn.org/stable/auto_examples/linear_model/plot_ols.html)\n",
    "- [Choosing the right estimator](https://scikit-learn.org/stable/tutorial/machine_learning_map/index.html)"
   ],
   "metadata": {
    "id": "ftmTer-HmY8-"
   }
  }
 ]
}