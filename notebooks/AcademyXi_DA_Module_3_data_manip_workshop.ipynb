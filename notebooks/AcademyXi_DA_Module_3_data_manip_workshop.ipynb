{
  "nbformat": 4,
  "nbformat_minor": 0,
  "metadata": {
    "colab": {
      "name": "AcademyXi_DA_Module_3_data_manip_workshop.ipynb",
      "provenance": [],
      "collapsed_sections": []
    },
    "kernelspec": {
      "name": "python3",
      "display_name": "Python 3"
    },
    "language_info": {
      "name": "python"
    }
  },
  "cells": [
    {
      "cell_type": "markdown",
      "source": [
        "## AcademyXi Data Analysis - Data Manipulation\n",
        "### Workshop B - Data manipulation in practice\n",
        "In this workshop module, we will go through a number of ways in which you can use Python for data manipulation. \n",
        "\n",
        "Think of this as a beginning of a rich, rewarding journey. We appreciate that some of the below may seem difficult (or easy) depending on your experience level with Python and Pandas. \n",
        "\n",
        "If you're not sure about how some part of the code below is working, try reviewing the documentation for the method or function (e.g. [here](https://pandas.pydata.org/docs/index.html)). Alternatively, think about what the code has done to the underlying data, and go back to the code to see if you can understand the steps it's taken to do so.\n",
        "\n",
        "Good luck!"
      ],
      "metadata": {
        "id": "NbP4w48uCaPI"
      }
    },
    {
      "cell_type": "markdown",
      "source": [
        "### Preparation\n",
        "\n",
        "This will prepare our notebook including installing required packages and loading the data."
      ],
      "metadata": {
        "id": "PSMlY-uk9lIJ"
      }
    },
    {
      "cell_type": "code",
      "execution_count": null,
      "metadata": {
        "id": "cE172qkQCZOz",
        "collapsed": true
      },
      "outputs": [],
      "source": [
        "# Install additional libraries required (fsspec and s3fs) to load files through AWS S3\n",
        "%%capture tmp\n",
        "!pip install fsspec s3fs\n",
        "\n",
        "# Import libraries to be used\n",
        "import plotly.express as px\n",
        "import pandas as pd\n",
        "import numpy as np"
      ]
    },
    {
      "cell_type": "code",
      "source": [
        "# Load data from S3\n",
        "df = pd.read_csv(\"s3://databyjp/academyxi/Datafiniti_Womens_Shoes_sm.csv\")"
      ],
      "metadata": {
        "id": "5G0JDH9INSCb"
      },
      "execution_count": null,
      "outputs": []
    },
    {
      "cell_type": "code",
      "source": [
        "# Check that the file has been properly loaded\n",
        "df.head()"
      ],
      "metadata": {
        "id": "MjHnSR-rESCR"
      },
      "execution_count": null,
      "outputs": []
    },
    {
      "cell_type": "code",
      "source": [
        "# Show summary information about the DataFrame, as well as individual columns\n",
        "df.info()"
      ],
      "metadata": {
        "id": "4ld26xFzEecL"
      },
      "execution_count": null,
      "outputs": []
    },
    {
      "cell_type": "markdown",
      "source": [
        "## Sort / filter data\n",
        "\n",
        "Sorting and filtering data in a Pandas DataFrame is easy and powerful. Take a look at some common ways to do it below."
      ],
      "metadata": {
        "id": "xVTwcYigWbXU"
      }
    },
    {
      "cell_type": "markdown",
      "source": [
        "### Sort data with Python and Pandas"
      ],
      "metadata": {
        "id": "_nuAx0VQDrku"
      }
    },
    {
      "cell_type": "code",
      "source": [
        "# We will be using just a few columns, so let's make a copy of the DataFrame with only those\n",
        "sdf = df[[\"id\", \"prices.merchant\", \"prices.amountMax\"]]"
      ],
      "metadata": {
        "id": "CHr_w2Q0Az6l"
      },
      "execution_count": null,
      "outputs": []
    },
    {
      "cell_type": "code",
      "source": [
        "# .sort_values method is one you will be using the most often. It can take one argument like so:\n",
        "sdf.sort_values(\"prices.amountMax\")"
      ],
      "metadata": {
        "id": "BvEfsVJVXBZj"
      },
      "execution_count": null,
      "outputs": []
    },
    {
      "cell_type": "code",
      "source": [
        "# Or provide multiple arguments as a list, which will then sort the data in the order of columns specified\n",
        "sdf.sort_values([\"prices.merchant\", \"prices.amountMax\"])"
      ],
      "metadata": {
        "id": "TiXGHKz4XbcM"
      },
      "execution_count": null,
      "outputs": []
    },
    {
      "cell_type": "code",
      "source": [
        "# By default, .sort_values method sorts the data in ascending order. \n",
        "# To sort in descending order, add the ascending=False argument.\n",
        "sdf.sort_values([\"prices.merchant\", \"prices.amountMax\"], ascending=False)"
      ],
      "metadata": {
        "id": "FnRS02mFBMpQ"
      },
      "execution_count": null,
      "outputs": []
    },
    {
      "cell_type": "code",
      "source": [
        "# To sort one column in ascending order and another in descending order, chain the methods\n",
        "# Note that when chaining the methods, the order of columns should be reversed\n",
        "sdf.sort_values(\"prices.amountMax\", ascending=False).sort_values(\"prices.merchant\")"
      ],
      "metadata": {
        "id": "x3oLEk5eDNPb"
      },
      "execution_count": null,
      "outputs": []
    },
    {
      "cell_type": "markdown",
      "source": [
        "### Filter data with Python and Pandas\n",
        "Three useful ways to access particular rows of Pandas DataFrames are by the:\n",
        "- row number; \n",
        "- `index` value; or\n",
        "- column values.\n",
        "Let's take a look at each below."
      ],
      "metadata": {
        "id": "tBr6ez80Dvrf"
      }
    },
    {
      "cell_type": "markdown",
      "source": [
        "#### Filter by rows\n",
        "The .iloc method can be used to slide the data in the way in which it is currently arranged."
      ],
      "metadata": {
        "id": "ucqy-TDyHdS7"
      }
    },
    {
      "cell_type": "code",
      "source": [
        "# Get the first 10 rows\n",
        "sdf.iloc[:10]"
      ],
      "metadata": {
        "id": "__kHWJsiHcER"
      },
      "execution_count": null,
      "outputs": []
    },
    {
      "cell_type": "code",
      "source": [
        "# Get the 15th row\n",
        "sdf.iloc[15]  # Note that the row object is returned rather than a DataFrame"
      ],
      "metadata": {
        "id": "kbS6husxHxcj"
      },
      "execution_count": null,
      "outputs": []
    },
    {
      "cell_type": "markdown",
      "source": [
        "#### Filter by index\n",
        "Each row of a DataFrame includes an `index` value, which acts as a name for each row. \n",
        "\n",
        "This might simply be a meaningless number, but it can be more - it might for example be a date, userID, whatever, allowing for convenient selection of subsets. "
      ],
      "metadata": {
        "id": "rokvx92DFILM"
      }
    },
    {
      "cell_type": "code",
      "source": [
        "# Get rows where the index is 10 or smaller\n",
        "sdf.loc[:10,:]"
      ],
      "metadata": {
        "id": "f62hMRk5FGOc"
      },
      "execution_count": null,
      "outputs": []
    },
    {
      "cell_type": "markdown",
      "source": [
        "So while that above example might look the same as before, we can do things like:"
      ],
      "metadata": {
        "id": "J6wrHlx-Haw4"
      }
    },
    {
      "cell_type": "code",
      "source": [
        "# Select rows where the index is smaller than 10, and the vendor is Walmart\n",
        "sdf[sdf[\"prices.merchant\"]==\"Walmart.com\"].loc[:10]"
      ],
      "metadata": {
        "id": "BIAsjQpcHYoQ"
      },
      "execution_count": null,
      "outputs": []
    },
    {
      "cell_type": "markdown",
      "source": [
        "#### Filter by column data\n",
        "\n",
        "You may have noticed the code `df[df[\"prices.merchant\"]==\"Walmart.com\"]` above when showing how to filter data by the index. \n",
        "\n",
        "This code uses an Boolean array produced by `df[\"prices.merchant\"]==\"Walmart.com\"`, in which each row is marked as TRUE or FALSE, based on whether the row's \"prices.merchant\" column value is \"Walmart.com\".\n",
        "\n",
        "This is an extremely powerful method of data filtering, as any number of logical (and/or) operations can be combined using these Boolean arrays as you will see below.\n",
        "\n",
        "Pay attention to how the query is constructed using brackets, combining logical operations. If you are not sure, I find it helpful to articulate what each clause within one set of brackets is doing, and to consider each conditional (& = AND, | = OR) clause."
      ],
      "metadata": {
        "id": "tzesNptJJ-RC"
      }
    },
    {
      "cell_type": "code",
      "source": [
        "# Get the portion of the dataframe where \"prices.merchant\" has \"Walmart.com\" values\n",
        "sdf[sdf[\"prices.merchant\"]==\"Walmart.com\"]"
      ],
      "metadata": {
        "id": "x7cq_ItfLvMW"
      },
      "execution_count": null,
      "outputs": []
    },
    {
      "cell_type": "code",
      "source": [
        "# Get the portion of the dataframe where \"prices.merchant\" has \"Walmart.com\" values, \n",
        "# and the prices.amountMax is above 50\n",
        "sdf[(sdf[\"prices.merchant\"]==\"Walmart.com\") & (sdf[\"prices.amountMax\"] > 50)]"
      ],
      "metadata": {
        "id": "c2PdkYkrL6aj"
      },
      "execution_count": null,
      "outputs": []
    },
    {
      "cell_type": "code",
      "source": [
        "# Get the portion of the dataframe where \"prices.merchant\" has \"Walmart.com\" values\n",
        "# and the prices.amountMax is above 60 or less than 10\n",
        "sdf[(sdf[\"prices.merchant\"]==\"Walmart.com\") & ((sdf[\"prices.amountMax\"] > 60) | (sdf[\"prices.amountMax\"] < 10))]"
      ],
      "metadata": {
        "id": "uy0Y0e_aMT2c"
      },
      "execution_count": null,
      "outputs": []
    },
    {
      "cell_type": "code",
      "source": [
        "# Get the portion of the dataframe where \"prices.merchant\" is missing values\n",
        "# and by value of prices.amountMax\n",
        "sdf[(sdf[\"prices.merchant\"].isna()) & (sdf[\"prices.amountMax\"] > 120)]"
      ],
      "metadata": {
        "id": "7VLJTT3aM56Z"
      },
      "execution_count": null,
      "outputs": []
    },
    {
      "cell_type": "code",
      "source": [
        "# Get the portion of the dataframe where \"prices.merchant\" contains string \"com\"\n",
        "# and the prices.amountMax is above 60\n",
        "sdf[(sdf[\"prices.merchant\"].str.contains(\"com\")) & (sdf[\"prices.amountMax\"] > 60)]"
      ],
      "metadata": {
        "id": "LRRiSViTe17D"
      },
      "execution_count": null,
      "outputs": []
    },
    {
      "cell_type": "markdown",
      "source": [
        "As you can see, Pandas provides flexible and powerful data filtering tools. This just scratches the surface of the large array of ways in which you can filter data in Pandas. \n",
        "\n",
        "To learn more, check out [this tutorial](https://pandas.pydata.org/pandas-docs/dev/getting_started/intro_tutorials/03_subset_data.html) from Pandas, and other methods such as `.query` ([reference](https://pandas.pydata.org/docs/reference/api/pandas.DataFrame.query.html)), `.filter` ([reference](https://pandas.pydata.org/docs/reference/api/pandas.DataFrame.filter.html)) and how to test for patterns in strings ([reference](https://pandas.pydata.org/pandas-docs/stable/user_guide/text.html#testing-for-strings-that-match-or-contain-a-pattern))."
      ],
      "metadata": {
        "id": "NHhVXE8reuxW"
      }
    },
    {
      "cell_type": "markdown",
      "source": [
        "# Data type conversions\n",
        "\n",
        "Now, let's take a look at how to convert data types within Pandas."
      ],
      "metadata": {
        "id": "Knh8JoRPi5qN"
      }
    },
    {
      "cell_type": "markdown",
      "source": [
        "### Data types - Simple conversion \n",
        "\n",
        "To convert one data type to another in a DataFrame, the `.astype` method can be used ([read more](https://pandas.pydata.org/docs/reference/api/pandas.DataFrame.astype.html)). Take a look below:"
      ],
      "metadata": {
        "id": "-ualcl4wE6U2"
      }
    },
    {
      "cell_type": "code",
      "source": [
        "# Floating point to String\n",
        "df[\"prices.amountMax\"].astype(str)"
      ],
      "metadata": {
        "id": "D1w3CCqYNt63"
      },
      "execution_count": null,
      "outputs": []
    },
    {
      "cell_type": "code",
      "source": [
        "# Floating point to Integer (rounds down)\n",
        "df[\"prices.amountMax\"].astype(int)"
      ],
      "metadata": {
        "id": "_gMB3281Rntz"
      },
      "execution_count": null,
      "outputs": []
    },
    {
      "cell_type": "code",
      "source": [
        "# Boolean to Binary / Integer\n",
        "df[\"prices.isSale\"].astype(int)"
      ],
      "metadata": {
        "id": "zd27taNaEtge"
      },
      "execution_count": null,
      "outputs": []
    },
    {
      "cell_type": "markdown",
      "source": [
        "### Data types - converting dates\n",
        "\n",
        "Without manual intervention, dates and/or times are usually loaded as strings. However, they are best handled in a native datetime format as it allows date/time specific operations.\n",
        "\n",
        "Take a look at a few examples below:"
      ],
      "metadata": {
        "id": "U79x2SyqInQ6"
      }
    },
    {
      "cell_type": "markdown",
      "source": [
        "What happens when we manipulate the data as-is, without converting it to a datetime object?"
      ],
      "metadata": {
        "id": "lyN_0BAoSuRg"
      }
    },
    {
      "cell_type": "code",
      "source": [
        "# Grab the year data - first four characters of the \"dateAdded\" column\n",
        "df[\"dateAddedYr\"] = df[\"dateAdded\"].str[:4]\n",
        "print(df[\"dateAddedYr\"])"
      ],
      "metadata": {
        "id": "5LphmJGwShCx"
      },
      "execution_count": null,
      "outputs": []
    },
    {
      "cell_type": "code",
      "source": [
        "# What happens if we operate on the year column?\n",
        "df[\"dateAddedYr\"] * 2"
      ],
      "metadata": {
        "id": "BTbEmU2ETnnT"
      },
      "execution_count": null,
      "outputs": []
    },
    {
      "cell_type": "code",
      "source": [
        "# So let's convert the data to integers\n",
        "df[\"dateAddedYr\"] = df[\"dateAddedYr\"].astype(int)"
      ],
      "metadata": {
        "id": "L3ql_ENATfU6"
      },
      "execution_count": null,
      "outputs": []
    },
    {
      "cell_type": "markdown",
      "source": [
        "But, many of our operations are easier if the column is converted to datetime."
      ],
      "metadata": {
        "id": "E-mxoF0oruYD"
      }
    },
    {
      "cell_type": "code",
      "source": [
        "# Actually, \"2015-05-04T12:13:08Z\" is a standard datetime format. This can be simply converted to datetime objects.\n",
        "df[\"dateAdded\"] = pd.to_datetime(df[\"dateAdded\"])\n",
        "df[\"dateAdded\"]"
      ],
      "metadata": {
        "id": "f-k2mhdUT3QX"
      },
      "execution_count": null,
      "outputs": []
    },
    {
      "cell_type": "code",
      "source": [
        "# Once the column has been converted to a datetime objects, their properties can be accessed with various methods under the `.dt` set\n",
        "print(df[\"dateAdded\"].dt.year)  # Year\n",
        "print(df[\"dateAdded\"].dt.timetz)  # Timezone\n",
        "print(df[\"dateAdded\"].dt.dayofweek)  # Day (monday=0, sunday=6)"
      ],
      "metadata": {
        "id": "2W_v0OjmUfrb"
      },
      "execution_count": null,
      "outputs": []
    },
    {
      "cell_type": "code",
      "source": [
        "# This can be now used to easily filter our data\n",
        "# let's say we want to see all data added in 2017 or later, and on Saturday/Sunday.\n",
        "df[(df[\"dateAdded\"].dt.year >= 2017) & (df[\"dateAdded\"].dt.dayofweek >= 6)]"
      ],
      "metadata": {
        "id": "pDdtGx6XNLOE"
      },
      "execution_count": null,
      "outputs": []
    },
    {
      "cell_type": "markdown",
      "source": [
        "If you will be working with date/time data, we recommend reading [this tutorial](https://pandas.pydata.org/docs/getting_started/intro_tutorials/09_timeseries.html), and [this reference guide](https://pandas.pydata.org/pandas-docs/stable/user_guide/timeseries.html)."
      ],
      "metadata": {
        "id": "Qyh1eHCzs6Nx"
      }
    }
  ]
}